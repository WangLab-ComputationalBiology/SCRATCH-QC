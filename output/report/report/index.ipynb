{
  "cells": [
    {
      "cell_type": "markdown",
      "metadata": {},
      "source": [
        "# Summary\n",
        "\n",
        "# Preface\n",
        "\n",
        "This is a Quarto book."
      ],
      "id": "48d5031f-b8de-4103-a1b9-cab78c35a54e"
    },
    {
      "cell_type": "code",
      "execution_count": null,
      "metadata": {
        "hash": "index_cache/ipynb/unnamed-chunk-1_4767439e591c09c312a2e794cfa9418f"
      },
      "outputs": [
        {
          "output_type": "stream",
          "name": "stdout",
          "text": [
            "[1] \"Test\""
          ]
        }
      ],
      "source": [
        "print(params$project_name)"
      ],
      "id": "e146889e-efad-4286-abec-02550f0a7678"
    }
  ],
  "nbformat": 4,
  "nbformat_minor": 5,
  "metadata": {
    "kernelspec": {
      "display_name": "Python 3",
      "language": "python",
      "name": "python3"
    }
  }
}
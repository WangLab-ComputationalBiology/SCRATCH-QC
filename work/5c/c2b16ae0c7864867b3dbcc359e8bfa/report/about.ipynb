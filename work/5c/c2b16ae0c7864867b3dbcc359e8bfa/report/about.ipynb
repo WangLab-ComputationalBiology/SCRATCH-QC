{
  "cells": [
    {
      "cell_type": "markdown",
      "metadata": {},
      "source": [
        "# About\n",
        "\n",
        "About this site"
      ],
      "id": "c3a6de37-01f9-400e-bb38-d52ea0a3b6b6"
    }
  ],
  "nbformat": 4,
  "nbformat_minor": 5,
  "metadata": {
    "kernelspec": {
      "display_name": "Python 3",
      "language": "python",
      "name": "python3"
    }
  }
}